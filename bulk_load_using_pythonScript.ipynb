{
 "cells": [
  {
   "cell_type": "code",
   "execution_count": 1,
   "id": "a7d91744",
   "metadata": {},
   "outputs": [],
   "source": [
    "import psycopg2 "
   ]
  },
  {
   "cell_type": "code",
   "execution_count": 2,
   "id": "2bfa6782",
   "metadata": {},
   "outputs": [],
   "source": [
    "dbname='mini_project'\n",
    "user='postgres'\n",
    "password='12345'\n",
    "host='localhost'\n",
    "port='5432'\n",
    "table1='accounts'\n",
    "table2='orders'\n",
    "table3='region'\n",
    "table4='sales_rep'\n",
    "table5='web_events'\n",
    "file_path1='accounts.csv'\n",
    "file_path2='orders.csv'\n",
    "file_path3='region.csv'\n",
    "file_path4='sales_rep.csv'\n",
    "file_path5='web_events.csv'"
   ]
  },
  {
   "cell_type": "code",
   "execution_count": 3,
   "id": "8373e084",
   "metadata": {},
   "outputs": [],
   "source": [
    "conn=psycopg2.connect(dbname=dbname,\n",
    "                     user=user,\n",
    "                     password=password,\n",
    "                     host=host,\n",
    "                     port=port)"
   ]
  },
  {
   "cell_type": "code",
   "execution_count": 4,
   "id": "b1e65e58",
   "metadata": {},
   "outputs": [],
   "source": [
    "curr=conn.cursor()"
   ]
  },
  {
   "cell_type": "code",
   "execution_count": 5,
   "id": "4fdb89f3",
   "metadata": {},
   "outputs": [],
   "source": [
    "table1_create='''create table if not exists Accounts(\n",
    "ID int,\n",
    "Name varchar,\n",
    "Website varchar,\n",
    "Lat float,\n",
    "Long float,\n",
    "Primary_POC varchar,\n",
    "Sales_Rep_ID int,\n",
    "PRIMARY KEY (ID)\n",
    ")'''\n",
    "\n",
    "table2_create='''create table if not exists Orders(\n",
    "ID int,\n",
    "Account_ID int,\n",
    "Occured_at timestamp,\n",
    "Standard_Qty int,\n",
    "Gloss_Qty int,\n",
    "Poster_Qty int,\n",
    "Total int,\n",
    "Standard_Amt_USD float,\n",
    "Gloss_Amt_USD float,\n",
    "Poster_Amt_USD float,\n",
    "Total_Amt_USD float,\n",
    "PRIMARY KEY (ID)\n",
    ")'''\n",
    "\n",
    "table3_create='''create table if not exists Region(\n",
    "ID int,\n",
    "Name varchar,\n",
    "primary key (ID)\n",
    ")'''\n",
    "\n",
    "table4_create='''create table if not exists Sales_Rep(\n",
    "ID int,\n",
    "Name varchar,\n",
    "Region_ID int,\n",
    "primary key (ID)\n",
    ")'''\n",
    "\n",
    "table5_create='''create table if not exists Web_Events(\n",
    "ID int,\n",
    "Account_ID int,\n",
    "Occured_at timestamp,\n",
    "Channel varchar,\n",
    "primary key (ID)\n",
    ")'''"
   ]
  },
  {
   "cell_type": "code",
   "execution_count": 6,
   "id": "8e3a24fe",
   "metadata": {},
   "outputs": [],
   "source": [
    "curr.execute(table1_create)\n",
    "curr.execute(table2_create)\n",
    "curr.execute(table3_create)\n",
    "curr.execute(table4_create)\n",
    "curr.execute(table5_create)\n",
    "conn.commit()"
   ]
  },
  {
   "cell_type": "code",
   "execution_count": 7,
   "id": "c946caa5",
   "metadata": {},
   "outputs": [],
   "source": [
    "with open(file_path1,'r') as f:\n",
    "    curr.copy_expert(f\"COPY {table1} FROM STDIN WITH HEADER CSV\",f)\n",
    "with open(file_path2,'r') as f:\n",
    "    curr.copy_expert(f\"COPY {table2} FROM STDIN WITH HEADER CSV\",f)\n",
    "with open(file_path3,'r') as f:\n",
    "    curr.copy_expert(f\"COPY {table3} FROM STDIN WITH HEADER CSV\",f)\n",
    "with open(file_path4,'r') as f:\n",
    "    curr.copy_expert(f\"COPY {table4} FROM STDIN WITH HEADER CSV\",f)\n",
    "with open(file_path5,'r') as f:\n",
    "    curr.copy_expert(f\"COPY {table5} FROM STDIN WITH HEADER CSV\",f)\n",
    "curr.close()\n",
    "conn.commit()\n",
    "    "
   ]
  },
  {
   "cell_type": "code",
   "execution_count": 8,
   "id": "57f04533",
   "metadata": {},
   "outputs": [],
   "source": [
    "conn.close()"
   ]
  },
  {
   "cell_type": "code",
   "execution_count": null,
   "id": "e9acc205",
   "metadata": {},
   "outputs": [],
   "source": []
  }
 ],
 "metadata": {
  "kernelspec": {
   "display_name": "Python 3 (ipykernel)",
   "language": "python",
   "name": "python3"
  },
  "language_info": {
   "codemirror_mode": {
    "name": "ipython",
    "version": 3
   },
   "file_extension": ".py",
   "mimetype": "text/x-python",
   "name": "python",
   "nbconvert_exporter": "python",
   "pygments_lexer": "ipython3",
   "version": "3.9.16"
  }
 },
 "nbformat": 4,
 "nbformat_minor": 5
}
